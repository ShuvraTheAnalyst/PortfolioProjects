{
 "cells": [
  {
   "cell_type": "code",
   "execution_count": 1,
   "id": "88e1c45d",
   "metadata": {},
   "outputs": [],
   "source": [
    "#import libraries\n",
    "from bs4 import BeautifulSoup\n",
    "import requests\n",
    "import time\n",
    "import datetime\n",
    "import smtplib\n",
    "\n"
   ]
  },
  {
   "cell_type": "code",
   "execution_count": 2,
   "id": "934a118d",
   "metadata": {},
   "outputs": [
    {
     "name": "stdout",
     "output_type": "stream",
     "text": [
      "\n",
      "\n",
      "           Apple iPhone 13 (128GB) - Blue\n",
      "          \n",
      "\n",
      "\n",
      "                             ₹70,900.00\n",
      "                            \n"
     ]
    }
   ],
   "source": [
    "#connect websites and pull data\n",
    "\n",
    "URL = \"https://www.amazon.in/gp/product/B09G9BL5CP/ref=s9_acss_bw_cg_Budget_2e1_w?pf_rd_m=A1K21FY43GMZF8&pf_rd_s=merchandised-search-16&pf_rd_r=E9HHGRTXF13YTPRYX5A2&pf_rd_t=101&pf_rd_p=8c52e60a-c84b-4614-a340-302d2973570c&pf_rd_i=1389401031&th=1\"\n",
    "headers = {\"User-Agent\": \"Mozilla/5.0 (Windows NT 10.0; Win64; x64) AppleWebKit/537.36 (KHTML, like Gecko) Chrome/104.0.0.0 Safari/537.36\"}\n",
    "page = requests.get(URL, headers=headers)\n",
    "\n",
    "soup1 = BeautifulSoup(page.content, \"html.parser\")\n",
    "soup2 = BeautifulSoup(soup1.prettify(), \"html.parser\")\n",
    "\n",
    "title = soup2.find(id='title').get_text()\n",
    "price = soup2.find('span',class_ = 'a-offscreen').get_text()\n",
    "print(title)\n",
    "print(price)\n",
    "\n"
   ]
  },
  {
   "cell_type": "code",
   "execution_count": 3,
   "id": "aa9cddac",
   "metadata": {},
   "outputs": [
    {
     "name": "stdout",
     "output_type": "stream",
     "text": [
      "Apple iPhone 13 (128GB) - Blue\n",
      "70,900.00\n"
     ]
    }
   ],
   "source": [
    "#clean up the data \n",
    "\n",
    "price = price.strip()[1:]\n",
    "title = title.strip()\n",
    "print(title)\n",
    "print(price)\n"
   ]
  },
  {
   "cell_type": "code",
   "execution_count": 4,
   "id": "fb49f969",
   "metadata": {},
   "outputs": [
    {
     "name": "stdout",
     "output_type": "stream",
     "text": [
      "2022-08-15\n"
     ]
    }
   ],
   "source": [
    "# Create a Timestamp for our output to track when data was collected\n",
    "\n",
    "import datetime\n",
    "today = datetime.date.today()\n",
    "print(today)"
   ]
  },
  {
   "cell_type": "code",
   "execution_count": 5,
   "id": "32ee737e",
   "metadata": {},
   "outputs": [],
   "source": [
    "#create a csv file and headers and data into the file\n",
    "\n",
    "import csv\n",
    "header = ['Title','Price','Date']\n",
    "data = [title,price,today]\n",
    "\n",
    "with open('AmazonSingleWebScraping.csv','w', newline = '',encoding='UTF8') as f:\n",
    "    writer = csv.writer(f)\n",
    "    writer.writerow(header)\n",
    "    writer.writerow(data)"
   ]
  },
  {
   "cell_type": "code",
   "execution_count": 6,
   "id": "4b8d0ad6",
   "metadata": {},
   "outputs": [
    {
     "name": "stdout",
     "output_type": "stream",
     "text": [
      "                            Title      Price        Date\n",
      "0  Apple iPhone 13 (128GB) - Blue  70,900.00  2022-08-15\n"
     ]
    }
   ],
   "source": [
    "import pandas as pd\n",
    "df = pd.read_csv(r'C:\\Users\\User\\AmazonSingleWebScraping.csv')\n",
    "print(df)"
   ]
  },
  {
   "cell_type": "code",
   "execution_count": 7,
   "id": "01d92415",
   "metadata": {},
   "outputs": [],
   "source": [
    "#now we are appending data to the csv file\n",
    "\n",
    "with open('AmazonSingleWebScraping.csv','a+', newline = '',encoding='UTF8') as f:\n",
    "    writer = csv.writer(f)\n",
    "    writer.writerow(data)\n",
    "\n"
   ]
  },
  {
   "cell_type": "code",
   "execution_count": 8,
   "id": "c0f24b60",
   "metadata": {},
   "outputs": [],
   "source": [
    "#combine all the above code into one function\n",
    "def check_price():\n",
    "\n",
    "    URL = \"https://www.amazon.in/gp/product/B09G9BL5CP/ref=s9_acss_bw_cg_Budget_2e1_w?pf_rd_m=A1K21FY43GMZF8&pf_rd_s=merchandised-search-16&pf_rd_r=E9HHGRTXF13YTPRYX5A2&pf_rd_t=101&pf_rd_p=8c52e60a-c84b-4614-a340-302d2973570c&pf_rd_i=1389401031&th=1\"\n",
    "    headers = {\"User-Agent\": \"Mozilla/5.0 (Windows NT 10.0; Win64; x64) AppleWebKit/537.36 (KHTML, like Gecko) Chrome/104.0.0.0 Safari/537.36\"}\n",
    "    page = requests.get(URL, headers=headers)\n",
    "\n",
    "    soup1 = BeautifulSoup(page.content, \"html.parser\")\n",
    "    soup2 = BeautifulSoup(soup1.prettify(), \"html.parser\")\n",
    "\n",
    "    title = soup2.find(id='title').get_text()\n",
    "    price = soup2.find('span',class_ = 'a-offscreen').get_text()\n",
    "    \n",
    "    price = price.strip()[1:]\n",
    "    title = title.strip()\n",
    "    \n",
    "    import datetime\n",
    "    today = datetime.date.today()\n",
    "    \n",
    "    import csv\n",
    "    header = ['Title','Price','Date']\n",
    "    data = [title,price,today]\n",
    "    \n",
    "    with open('AmazonSingleWebScraping.csv','a+', newline = '',encoding='UTF8') as f:\n",
    "        writer = csv.writer(f)\n",
    "        writer.writerow(data)\n",
    "    \n",
    "    #if (price<65000):\n",
    "     #   send_mail()\n",
    "#(If we want to try send ourself an email  when a price hits below a certain level we can try it)\n",
    "\n"
   ]
  },
  {
   "cell_type": "code",
   "execution_count": 9,
   "id": "d6ab5122",
   "metadata": {},
   "outputs": [],
   "source": [
    "# Runs check_price after a set time and inputs data into our CSV \n",
    "\n",
    "#while (True):\n",
    " #   check_price()\n",
    "  #  time.sleep(86400)"
   ]
  },
  {
   "cell_type": "code",
   "execution_count": 10,
   "id": "871b81b1",
   "metadata": {},
   "outputs": [
    {
     "name": "stdout",
     "output_type": "stream",
     "text": [
      "                            Title      Price        Date\n",
      "0  Apple iPhone 13 (128GB) - Blue  70,900.00  2022-08-15\n",
      "1  Apple iPhone 13 (128GB) - Blue  70,900.00  2022-08-15\n"
     ]
    }
   ],
   "source": [
    "import pandas as pd\n",
    "df = pd.read_csv(r'C:\\Users\\User\\AmazonSingleWebScraping.csv')\n",
    "print(df)"
   ]
  },
  {
   "cell_type": "code",
   "execution_count": 11,
   "id": "1f8f5d32",
   "metadata": {},
   "outputs": [],
   "source": [
    "#If we want to try sending ourself an email when the price hits below a certain level \n",
    "\n",
    "\n",
    "\n",
    "def send_mail():\n",
    "    server = smtplib.SMTP_SSL('smtp.gmail.com',465)\n",
    "    server.ehlo()\n",
    "    #server.starttls()\n",
    "    server.ehlo()\n",
    "    server.login('shuvraroy88@gmail.com','xxxxxxxxxxx')\n",
    "    \n",
    "    subject = \"The i-phone you want is below Rs.70,700 Now is your chance to buy!\"\n",
    "    body = \"Shuvra, This is the moment we have been waiting for. Now is your chance to pick up the phone of your dreams. Don't mess it up! Link here:https://www.amazon.in/gp/product/B09G9BL5CP/ref=s9_acss_bw_cg_Budget_2e1_w?pf_rd_m=A1K21FY43GMZF8&pf_rd_s=merchandised-search-16&pf_rd_r=E9HHGRTXF13YTPRYX5A2&pf_rd_t=101&pf_rd_p=8c52e60a-c84b-4614-a340-302d2973570c&pf_rd_i=1389401031&th=1\"\n",
    "    msg = f\"Subject: {subject}\\n\\n{body}\"\n",
    "    \n",
    "    server.sendmail(\n",
    "        'shuvraroy88@gmail.com',\n",
    "        msg\n",
    "     \n",
    "    )"
   ]
  }
 ],
 "metadata": {
  "kernelspec": {
   "display_name": "Python 3 (ipykernel)",
   "language": "python",
   "name": "python3"
  },
  "language_info": {
   "codemirror_mode": {
    "name": "ipython",
    "version": 3
   },
   "file_extension": ".py",
   "mimetype": "text/x-python",
   "name": "python",
   "nbconvert_exporter": "python",
   "pygments_lexer": "ipython3",
   "version": "3.10.2"
  }
 },
 "nbformat": 4,
 "nbformat_minor": 5
}
